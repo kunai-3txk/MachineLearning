{
  "nbformat": 4,
  "nbformat_minor": 0,
  "metadata": {
    "colab": {
      "name": "20220524_Signate-Disease_Practice_FLAML.ipynb",
      "provenance": [],
      "authorship_tag": "ABX9TyMVmV4YN3LcOpvX51Qbdd9J",
      "include_colab_link": true
    },
    "kernelspec": {
      "name": "python3",
      "display_name": "Python 3"
    },
    "language_info": {
      "name": "python"
    }
  },
  "cells": [
    {
      "cell_type": "markdown",
      "metadata": {
        "id": "view-in-github",
        "colab_type": "text"
      },
      "source": [
        "<a href=\"https://colab.research.google.com/github/kunai-3txk/colab/blob/main/20220524_Signate_Disease_Practice_FLAML.ipynb\" target=\"_parent\"><img src=\"https://colab.research.google.com/assets/colab-badge.svg\" alt=\"Open In Colab\"/></a>"
      ]
    },
    {
      "cell_type": "code",
      "execution_count": 1,
      "metadata": {
        "id": "NV85MU0bhMpV"
      },
      "outputs": [],
      "source": [
        "from google.colab import auth\n",
        "auth.authenticate_user()"
      ]
    },
    {
      "cell_type": "code",
      "source": [
        "from google.cloud import bigquery\n",
        "project_id = 'nahe-project-01-344111'\n",
        "client = bigquery.Client(project=project_id)\n",
        "# 実行するクエリ\n",
        "query =  \"\"\"\n",
        "                SELECT * FROM \n",
        "                `nahe-project-01-344111.Disease.Disease_train` \n",
        "                ;\n",
        "         \"\"\"\n",
        "# メソッドに`to_dataframe()`をつけるとpd.DataFrameで結果を受け取れる\n",
        "train = client.query(query).to_dataframe()\n",
        "# 実行するクエリ\n",
        "query =  \"\"\"\n",
        "                SELECT * FROM \n",
        "                `nahe-project-01-344111.Disease.Disease_test` \n",
        "                ;\n",
        "         \"\"\"\n",
        "# メソッドに`to_dataframe()`をつけるとpd.DataFrameで結果を受け取れる\n",
        "test = client.query(query).to_dataframe()"
      ],
      "metadata": {
        "id": "uy7v7IM8hQeK"
      },
      "execution_count": 2,
      "outputs": []
    },
    {
      "cell_type": "code",
      "source": [
        "pip install flaml"
      ],
      "metadata": {
        "id": "nEYqCVZyhkuS"
      },
      "execution_count": null,
      "outputs": []
    },
    {
      "cell_type": "code",
      "source": [
        "import pickle\n",
        "import numpy as np\n",
        "import matplotlib.pyplot as plt\n",
        " \n",
        "from sklearn.manifold import TSNE\n",
        "from sklearn.datasets import make_classification\n",
        "from sklearn.model_selection import train_test_split\n",
        "from sklearn.metrics import classification_report, accuracy_score\n",
        " \n",
        "# import flaml\n",
        "from flaml import AutoML\n",
        "from flaml.data import get_output_from_log\n",
        "# from ray import tune"
      ],
      "metadata": {
        "id": "_VkmpkH5hfg3"
      },
      "execution_count": 4,
      "outputs": []
    },
    {
      "cell_type": "code",
      "source": [
        "X = train.loc[:, (train.columns!='disease')]\n",
        "y = train['disease']\n",
        "# 学習データとテストデータに分ける\n",
        "X_train, X_test, y_train, y_test = train_test_split(X, y,test_size=0.2,random_state=0,stratify=y)\n",
        "X.head()"
      ],
      "metadata": {
        "colab": {
          "base_uri": "https://localhost:8080/",
          "height": 206
        },
        "id": "zUq2m7z9hyte",
        "outputId": "a29eac81-0f07-4cde-b4cb-95213487bbd4"
      },
      "execution_count": 18,
      "outputs": [
        {
          "output_type": "execute_result",
          "data": {
            "text/plain": [
              "   id  Age  Gender  T_Bil  D_Bil    ALP  ALT_GPT  AST_GOT   TP  Alb  AG_ratio\n",
              "0   0   60    Male    2.9    1.3  170.9     42.1     37.1  5.5  2.9      1.01\n",
              "1   1   28  Female    0.7    0.1  158.8     26.0     23.9  6.4  3.7      1.36\n",
              "2   2   60    Male   23.1   12.5  962.0     53.0     40.9  6.8  3.3      0.96\n",
              "3   3   20    Male    1.0    0.5  415.9     33.9     39.0  7.0  3.8      1.31\n",
              "4   4   44  Female    0.6    0.3  152.9     40.9     42.0  4.5  2.1      1.04"
            ],
            "text/html": [
              "\n",
              "  <div id=\"df-36120a72-eadb-4ae0-a38e-c70fdf6c3f8e\">\n",
              "    <div class=\"colab-df-container\">\n",
              "      <div>\n",
              "<style scoped>\n",
              "    .dataframe tbody tr th:only-of-type {\n",
              "        vertical-align: middle;\n",
              "    }\n",
              "\n",
              "    .dataframe tbody tr th {\n",
              "        vertical-align: top;\n",
              "    }\n",
              "\n",
              "    .dataframe thead th {\n",
              "        text-align: right;\n",
              "    }\n",
              "</style>\n",
              "<table border=\"1\" class=\"dataframe\">\n",
              "  <thead>\n",
              "    <tr style=\"text-align: right;\">\n",
              "      <th></th>\n",
              "      <th>id</th>\n",
              "      <th>Age</th>\n",
              "      <th>Gender</th>\n",
              "      <th>T_Bil</th>\n",
              "      <th>D_Bil</th>\n",
              "      <th>ALP</th>\n",
              "      <th>ALT_GPT</th>\n",
              "      <th>AST_GOT</th>\n",
              "      <th>TP</th>\n",
              "      <th>Alb</th>\n",
              "      <th>AG_ratio</th>\n",
              "    </tr>\n",
              "  </thead>\n",
              "  <tbody>\n",
              "    <tr>\n",
              "      <th>0</th>\n",
              "      <td>0</td>\n",
              "      <td>60</td>\n",
              "      <td>Male</td>\n",
              "      <td>2.9</td>\n",
              "      <td>1.3</td>\n",
              "      <td>170.9</td>\n",
              "      <td>42.1</td>\n",
              "      <td>37.1</td>\n",
              "      <td>5.5</td>\n",
              "      <td>2.9</td>\n",
              "      <td>1.01</td>\n",
              "    </tr>\n",
              "    <tr>\n",
              "      <th>1</th>\n",
              "      <td>1</td>\n",
              "      <td>28</td>\n",
              "      <td>Female</td>\n",
              "      <td>0.7</td>\n",
              "      <td>0.1</td>\n",
              "      <td>158.8</td>\n",
              "      <td>26.0</td>\n",
              "      <td>23.9</td>\n",
              "      <td>6.4</td>\n",
              "      <td>3.7</td>\n",
              "      <td>1.36</td>\n",
              "    </tr>\n",
              "    <tr>\n",
              "      <th>2</th>\n",
              "      <td>2</td>\n",
              "      <td>60</td>\n",
              "      <td>Male</td>\n",
              "      <td>23.1</td>\n",
              "      <td>12.5</td>\n",
              "      <td>962.0</td>\n",
              "      <td>53.0</td>\n",
              "      <td>40.9</td>\n",
              "      <td>6.8</td>\n",
              "      <td>3.3</td>\n",
              "      <td>0.96</td>\n",
              "    </tr>\n",
              "    <tr>\n",
              "      <th>3</th>\n",
              "      <td>3</td>\n",
              "      <td>20</td>\n",
              "      <td>Male</td>\n",
              "      <td>1.0</td>\n",
              "      <td>0.5</td>\n",
              "      <td>415.9</td>\n",
              "      <td>33.9</td>\n",
              "      <td>39.0</td>\n",
              "      <td>7.0</td>\n",
              "      <td>3.8</td>\n",
              "      <td>1.31</td>\n",
              "    </tr>\n",
              "    <tr>\n",
              "      <th>4</th>\n",
              "      <td>4</td>\n",
              "      <td>44</td>\n",
              "      <td>Female</td>\n",
              "      <td>0.6</td>\n",
              "      <td>0.3</td>\n",
              "      <td>152.9</td>\n",
              "      <td>40.9</td>\n",
              "      <td>42.0</td>\n",
              "      <td>4.5</td>\n",
              "      <td>2.1</td>\n",
              "      <td>1.04</td>\n",
              "    </tr>\n",
              "  </tbody>\n",
              "</table>\n",
              "</div>\n",
              "      <button class=\"colab-df-convert\" onclick=\"convertToInteractive('df-36120a72-eadb-4ae0-a38e-c70fdf6c3f8e')\"\n",
              "              title=\"Convert this dataframe to an interactive table.\"\n",
              "              style=\"display:none;\">\n",
              "        \n",
              "  <svg xmlns=\"http://www.w3.org/2000/svg\" height=\"24px\"viewBox=\"0 0 24 24\"\n",
              "       width=\"24px\">\n",
              "    <path d=\"M0 0h24v24H0V0z\" fill=\"none\"/>\n",
              "    <path d=\"M18.56 5.44l.94 2.06.94-2.06 2.06-.94-2.06-.94-.94-2.06-.94 2.06-2.06.94zm-11 1L8.5 8.5l.94-2.06 2.06-.94-2.06-.94L8.5 2.5l-.94 2.06-2.06.94zm10 10l.94 2.06.94-2.06 2.06-.94-2.06-.94-.94-2.06-.94 2.06-2.06.94z\"/><path d=\"M17.41 7.96l-1.37-1.37c-.4-.4-.92-.59-1.43-.59-.52 0-1.04.2-1.43.59L10.3 9.45l-7.72 7.72c-.78.78-.78 2.05 0 2.83L4 21.41c.39.39.9.59 1.41.59.51 0 1.02-.2 1.41-.59l7.78-7.78 2.81-2.81c.8-.78.8-2.07 0-2.86zM5.41 20L4 18.59l7.72-7.72 1.47 1.35L5.41 20z\"/>\n",
              "  </svg>\n",
              "      </button>\n",
              "      \n",
              "  <style>\n",
              "    .colab-df-container {\n",
              "      display:flex;\n",
              "      flex-wrap:wrap;\n",
              "      gap: 12px;\n",
              "    }\n",
              "\n",
              "    .colab-df-convert {\n",
              "      background-color: #E8F0FE;\n",
              "      border: none;\n",
              "      border-radius: 50%;\n",
              "      cursor: pointer;\n",
              "      display: none;\n",
              "      fill: #1967D2;\n",
              "      height: 32px;\n",
              "      padding: 0 0 0 0;\n",
              "      width: 32px;\n",
              "    }\n",
              "\n",
              "    .colab-df-convert:hover {\n",
              "      background-color: #E2EBFA;\n",
              "      box-shadow: 0px 1px 2px rgba(60, 64, 67, 0.3), 0px 1px 3px 1px rgba(60, 64, 67, 0.15);\n",
              "      fill: #174EA6;\n",
              "    }\n",
              "\n",
              "    [theme=dark] .colab-df-convert {\n",
              "      background-color: #3B4455;\n",
              "      fill: #D2E3FC;\n",
              "    }\n",
              "\n",
              "    [theme=dark] .colab-df-convert:hover {\n",
              "      background-color: #434B5C;\n",
              "      box-shadow: 0px 1px 3px 1px rgba(0, 0, 0, 0.15);\n",
              "      filter: drop-shadow(0px 1px 2px rgba(0, 0, 0, 0.3));\n",
              "      fill: #FFFFFF;\n",
              "    }\n",
              "  </style>\n",
              "\n",
              "      <script>\n",
              "        const buttonEl =\n",
              "          document.querySelector('#df-36120a72-eadb-4ae0-a38e-c70fdf6c3f8e button.colab-df-convert');\n",
              "        buttonEl.style.display =\n",
              "          google.colab.kernel.accessAllowed ? 'block' : 'none';\n",
              "\n",
              "        async function convertToInteractive(key) {\n",
              "          const element = document.querySelector('#df-36120a72-eadb-4ae0-a38e-c70fdf6c3f8e');\n",
              "          const dataTable =\n",
              "            await google.colab.kernel.invokeFunction('convertToInteractive',\n",
              "                                                     [key], {});\n",
              "          if (!dataTable) return;\n",
              "\n",
              "          const docLinkHtml = 'Like what you see? Visit the ' +\n",
              "            '<a target=\"_blank\" href=https://colab.research.google.com/notebooks/data_table.ipynb>data table notebook</a>'\n",
              "            + ' to learn more about interactive tables.';\n",
              "          element.innerHTML = '';\n",
              "          dataTable['output_type'] = 'display_data';\n",
              "          await google.colab.output.renderOutput(dataTable, element);\n",
              "          const docLink = document.createElement('div');\n",
              "          docLink.innerHTML = docLinkHtml;\n",
              "          element.appendChild(docLink);\n",
              "        }\n",
              "      </script>\n",
              "    </div>\n",
              "  </div>\n",
              "  "
            ]
          },
          "metadata": {},
          "execution_count": 18
        }
      ]
    },
    {
      "cell_type": "code",
      "source": [
        "automl = AutoML()\n",
        "\n",
        "settings = {\n",
        "    \"time_budget\": 30,            # total running time in seconds\n",
        "    \"metric\": 'accuracy',         # metric\n",
        "    \"task\": 'classification',     # task type\n",
        "    # \"estimator_list\": ['rf','lgbm', 'xgboost'],  # list of ML learners\n",
        "    \"log_file_name\": 'automl.log',  # log file name\n",
        "    \"log_training_metric\": True,  # whether to log training metric\n",
        "    \"seed\": 1,                    # random seed\n",
        "}"
      ],
      "metadata": {
        "id": "SiBhCsBUh5hZ"
      },
      "execution_count": 7,
      "outputs": []
    },
    {
      "cell_type": "code",
      "source": [
        "automl.fit(X_train=X_train, y_train=y_train, **settings)"
      ],
      "metadata": {
        "colab": {
          "base_uri": "https://localhost:8080/"
        },
        "id": "tenS-uJBh94w",
        "outputId": "959f4791-e7ee-4963-bf2c-ae872cc2243d"
      },
      "execution_count": 8,
      "outputs": [
        {
          "output_type": "stream",
          "name": "stderr",
          "text": [
            "[flaml.automl: 05-25 14:04:14] {2365} INFO - task = classification\n",
            "[flaml.automl: 05-25 14:04:14] {2367} INFO - Data split method: stratified\n",
            "[flaml.automl: 05-25 14:04:14] {2371} INFO - Evaluation method: cv\n",
            "[flaml.automl: 05-25 14:04:14] {2448} INFO - Minimizing error metric: 1-accuracy\n",
            "[flaml.automl: 05-25 14:04:14] {2561} INFO - List of ML learners in AutoML Run: ['lgbm', 'rf', 'xgboost', 'extra_tree', 'xgb_limitdepth', 'lrl1']\n",
            "[flaml.automl: 05-25 14:04:14] {2853} INFO - iteration 0, current learner lgbm\n",
            "[flaml.automl: 05-25 14:04:14] {2984} INFO - Estimated sufficient time budget=2086s. Estimated necessary time budget=48s.\n",
            "[flaml.automl: 05-25 14:04:14] {3036} INFO -  at 0.3s,\testimator lgbm's best error=0.2191,\tbest estimator lgbm's best error=0.2191\n",
            "[flaml.automl: 05-25 14:04:14] {2853} INFO - iteration 1, current learner lgbm\n",
            "[flaml.automl: 05-25 14:04:14] {3036} INFO -  at 0.4s,\testimator lgbm's best error=0.2121,\tbest estimator lgbm's best error=0.2121\n",
            "[flaml.automl: 05-25 14:04:14] {2853} INFO - iteration 2, current learner lgbm\n",
            "[flaml.automl: 05-25 14:04:14] {3036} INFO -  at 0.5s,\testimator lgbm's best error=0.2121,\tbest estimator lgbm's best error=0.2121\n",
            "[flaml.automl: 05-25 14:04:14] {2853} INFO - iteration 3, current learner lgbm\n",
            "[flaml.automl: 05-25 14:04:14] {3036} INFO -  at 0.6s,\testimator lgbm's best error=0.1995,\tbest estimator lgbm's best error=0.1995\n",
            "[flaml.automl: 05-25 14:04:14] {2853} INFO - iteration 4, current learner lgbm\n",
            "[flaml.automl: 05-25 14:04:14] {3036} INFO -  at 0.8s,\testimator lgbm's best error=0.1854,\tbest estimator lgbm's best error=0.1854\n",
            "[flaml.automl: 05-25 14:04:15] {2853} INFO - iteration 5, current learner lgbm\n",
            "[flaml.automl: 05-25 14:04:15] {3036} INFO -  at 0.9s,\testimator lgbm's best error=0.1826,\tbest estimator lgbm's best error=0.1826\n",
            "[flaml.automl: 05-25 14:04:15] {2853} INFO - iteration 6, current learner lgbm\n",
            "[flaml.automl: 05-25 14:04:15] {3036} INFO -  at 1.1s,\testimator lgbm's best error=0.1826,\tbest estimator lgbm's best error=0.1826\n",
            "[flaml.automl: 05-25 14:04:15] {2853} INFO - iteration 7, current learner lgbm\n",
            "[flaml.automl: 05-25 14:04:15] {3036} INFO -  at 1.2s,\testimator lgbm's best error=0.1826,\tbest estimator lgbm's best error=0.1826\n",
            "[flaml.automl: 05-25 14:04:15] {2853} INFO - iteration 8, current learner lgbm\n",
            "[flaml.automl: 05-25 14:04:15] {3036} INFO -  at 1.3s,\testimator lgbm's best error=0.1699,\tbest estimator lgbm's best error=0.1699\n",
            "[flaml.automl: 05-25 14:04:15] {2853} INFO - iteration 9, current learner xgboost\n",
            "[flaml.automl: 05-25 14:04:15] {3036} INFO -  at 1.6s,\testimator xgboost's best error=0.4831,\tbest estimator lgbm's best error=0.1699\n",
            "[flaml.automl: 05-25 14:04:15] {2853} INFO - iteration 10, current learner lgbm\n",
            "[flaml.automl: 05-25 14:04:15] {3036} INFO -  at 1.8s,\testimator lgbm's best error=0.1699,\tbest estimator lgbm's best error=0.1699\n",
            "[flaml.automl: 05-25 14:04:15] {2853} INFO - iteration 11, current learner xgboost\n",
            "[flaml.automl: 05-25 14:04:16] {3036} INFO -  at 1.9s,\testimator xgboost's best error=0.1981,\tbest estimator lgbm's best error=0.1699\n",
            "[flaml.automl: 05-25 14:04:16] {2853} INFO - iteration 12, current learner xgboost\n",
            "[flaml.automl: 05-25 14:04:16] {3036} INFO -  at 2.0s,\testimator xgboost's best error=0.1981,\tbest estimator lgbm's best error=0.1699\n",
            "[flaml.automl: 05-25 14:04:16] {2853} INFO - iteration 13, current learner xgboost\n",
            "[flaml.automl: 05-25 14:04:16] {3036} INFO -  at 2.2s,\testimator xgboost's best error=0.1981,\tbest estimator lgbm's best error=0.1699\n",
            "[flaml.automl: 05-25 14:04:16] {2853} INFO - iteration 14, current learner lgbm\n",
            "[flaml.automl: 05-25 14:04:16] {3036} INFO -  at 2.4s,\testimator lgbm's best error=0.1587,\tbest estimator lgbm's best error=0.1587\n",
            "[flaml.automl: 05-25 14:04:16] {2853} INFO - iteration 15, current learner xgboost\n",
            "[flaml.automl: 05-25 14:04:16] {3036} INFO -  at 2.6s,\testimator xgboost's best error=0.1981,\tbest estimator lgbm's best error=0.1587\n",
            "[flaml.automl: 05-25 14:04:16] {2853} INFO - iteration 16, current learner lgbm\n",
            "[flaml.automl: 05-25 14:04:17] {3036} INFO -  at 2.8s,\testimator lgbm's best error=0.1377,\tbest estimator lgbm's best error=0.1377\n",
            "[flaml.automl: 05-25 14:04:17] {2853} INFO - iteration 17, current learner xgboost\n",
            "[flaml.automl: 05-25 14:04:17] {3036} INFO -  at 3.0s,\testimator xgboost's best error=0.1981,\tbest estimator lgbm's best error=0.1377\n",
            "[flaml.automl: 05-25 14:04:17] {2853} INFO - iteration 18, current learner lgbm\n",
            "[flaml.automl: 05-25 14:04:17] {3036} INFO -  at 3.2s,\testimator lgbm's best error=0.1377,\tbest estimator lgbm's best error=0.1377\n",
            "[flaml.automl: 05-25 14:04:17] {2853} INFO - iteration 19, current learner lgbm\n",
            "[flaml.automl: 05-25 14:04:17] {3036} INFO -  at 3.4s,\testimator lgbm's best error=0.1377,\tbest estimator lgbm's best error=0.1377\n",
            "[flaml.automl: 05-25 14:04:17] {2853} INFO - iteration 20, current learner lgbm\n",
            "[flaml.automl: 05-25 14:04:17] {3036} INFO -  at 3.7s,\testimator lgbm's best error=0.1377,\tbest estimator lgbm's best error=0.1377\n",
            "[flaml.automl: 05-25 14:04:17] {2853} INFO - iteration 21, current learner extra_tree\n",
            "[flaml.automl: 05-25 14:04:19] {3036} INFO -  at 5.5s,\testimator extra_tree's best error=0.2922,\tbest estimator lgbm's best error=0.1377\n",
            "[flaml.automl: 05-25 14:04:19] {2853} INFO - iteration 22, current learner rf\n",
            "[flaml.automl: 05-25 14:04:21] {3036} INFO -  at 7.3s,\testimator rf's best error=0.2205,\tbest estimator lgbm's best error=0.1377\n",
            "[flaml.automl: 05-25 14:04:21] {2853} INFO - iteration 23, current learner lgbm\n",
            "[flaml.automl: 05-25 14:04:21] {3036} INFO -  at 7.5s,\testimator lgbm's best error=0.1377,\tbest estimator lgbm's best error=0.1377\n",
            "[flaml.automl: 05-25 14:04:21] {2853} INFO - iteration 24, current learner xgboost\n",
            "[flaml.automl: 05-25 14:04:21] {3036} INFO -  at 7.6s,\testimator xgboost's best error=0.1981,\tbest estimator lgbm's best error=0.1377\n",
            "[flaml.automl: 05-25 14:04:21] {2853} INFO - iteration 25, current learner extra_tree\n",
            "[flaml.automl: 05-25 14:04:23] {3036} INFO -  at 9.5s,\testimator extra_tree's best error=0.2922,\tbest estimator lgbm's best error=0.1377\n",
            "[flaml.automl: 05-25 14:04:23] {2853} INFO - iteration 26, current learner lgbm\n",
            "[flaml.automl: 05-25 14:04:23] {3036} INFO -  at 9.8s,\testimator lgbm's best error=0.1377,\tbest estimator lgbm's best error=0.1377\n",
            "[flaml.automl: 05-25 14:04:23] {2853} INFO - iteration 27, current learner xgboost\n",
            "[flaml.automl: 05-25 14:04:24] {3036} INFO -  at 9.9s,\testimator xgboost's best error=0.1981,\tbest estimator lgbm's best error=0.1377\n",
            "[flaml.automl: 05-25 14:04:24] {2853} INFO - iteration 28, current learner xgboost\n",
            "[flaml.automl: 05-25 14:04:24] {3036} INFO -  at 10.0s,\testimator xgboost's best error=0.1981,\tbest estimator lgbm's best error=0.1377\n",
            "[flaml.automl: 05-25 14:04:24] {2853} INFO - iteration 29, current learner xgboost\n",
            "[flaml.automl: 05-25 14:04:24] {3036} INFO -  at 10.2s,\testimator xgboost's best error=0.1981,\tbest estimator lgbm's best error=0.1377\n",
            "[flaml.automl: 05-25 14:04:24] {2853} INFO - iteration 30, current learner lgbm\n",
            "[flaml.automl: 05-25 14:04:24] {3036} INFO -  at 10.3s,\testimator lgbm's best error=0.1377,\tbest estimator lgbm's best error=0.1377\n",
            "[flaml.automl: 05-25 14:04:24] {2853} INFO - iteration 31, current learner lgbm\n",
            "[flaml.automl: 05-25 14:04:24] {3036} INFO -  at 10.6s,\testimator lgbm's best error=0.1377,\tbest estimator lgbm's best error=0.1377\n",
            "[flaml.automl: 05-25 14:04:24] {2853} INFO - iteration 32, current learner lgbm\n",
            "[flaml.automl: 05-25 14:04:25] {3036} INFO -  at 10.8s,\testimator lgbm's best error=0.1377,\tbest estimator lgbm's best error=0.1377\n",
            "[flaml.automl: 05-25 14:04:25] {2853} INFO - iteration 33, current learner xgboost\n",
            "[flaml.automl: 05-25 14:04:25] {3036} INFO -  at 11.0s,\testimator xgboost's best error=0.1981,\tbest estimator lgbm's best error=0.1377\n",
            "[flaml.automl: 05-25 14:04:25] {2853} INFO - iteration 34, current learner lgbm\n",
            "[flaml.automl: 05-25 14:04:25] {3036} INFO -  at 11.2s,\testimator lgbm's best error=0.1377,\tbest estimator lgbm's best error=0.1377\n",
            "[flaml.automl: 05-25 14:04:25] {2853} INFO - iteration 35, current learner rf\n",
            "[flaml.automl: 05-25 14:04:27] {3036} INFO -  at 13.1s,\testimator rf's best error=0.2121,\tbest estimator lgbm's best error=0.1377\n",
            "[flaml.automl: 05-25 14:04:27] {2853} INFO - iteration 36, current learner extra_tree\n",
            "[flaml.automl: 05-25 14:04:29] {3036} INFO -  at 14.9s,\testimator extra_tree's best error=0.2359,\tbest estimator lgbm's best error=0.1377\n",
            "[flaml.automl: 05-25 14:04:29] {2853} INFO - iteration 37, current learner xgboost\n",
            "[flaml.automl: 05-25 14:04:29] {3036} INFO -  at 15.1s,\testimator xgboost's best error=0.1981,\tbest estimator lgbm's best error=0.1377\n",
            "[flaml.automl: 05-25 14:04:29] {2853} INFO - iteration 38, current learner xgboost\n",
            "[flaml.automl: 05-25 14:04:29] {3036} INFO -  at 15.2s,\testimator xgboost's best error=0.1981,\tbest estimator lgbm's best error=0.1377\n",
            "[flaml.automl: 05-25 14:04:29] {2853} INFO - iteration 39, current learner lgbm\n",
            "[flaml.automl: 05-25 14:04:29] {3036} INFO -  at 15.4s,\testimator lgbm's best error=0.1377,\tbest estimator lgbm's best error=0.1377\n",
            "[flaml.automl: 05-25 14:04:29] {2853} INFO - iteration 40, current learner xgboost\n",
            "[flaml.automl: 05-25 14:04:29] {3036} INFO -  at 15.6s,\testimator xgboost's best error=0.1981,\tbest estimator lgbm's best error=0.1377\n",
            "[flaml.automl: 05-25 14:04:29] {2853} INFO - iteration 41, current learner xgboost\n",
            "[flaml.automl: 05-25 14:04:29] {3036} INFO -  at 15.7s,\testimator xgboost's best error=0.1981,\tbest estimator lgbm's best error=0.1377\n",
            "[flaml.automl: 05-25 14:04:29] {2853} INFO - iteration 42, current learner lgbm\n",
            "[flaml.automl: 05-25 14:04:30] {3036} INFO -  at 16.0s,\testimator lgbm's best error=0.1377,\tbest estimator lgbm's best error=0.1377\n",
            "[flaml.automl: 05-25 14:04:30] {2853} INFO - iteration 43, current learner xgboost\n",
            "[flaml.automl: 05-25 14:04:30] {3036} INFO -  at 16.1s,\testimator xgboost's best error=0.1981,\tbest estimator lgbm's best error=0.1377\n",
            "[flaml.automl: 05-25 14:04:30] {2853} INFO - iteration 44, current learner extra_tree\n",
            "[flaml.automl: 05-25 14:04:32] {3036} INFO -  at 18.0s,\testimator extra_tree's best error=0.2359,\tbest estimator lgbm's best error=0.1377\n",
            "[flaml.automl: 05-25 14:04:32] {2853} INFO - iteration 45, current learner xgboost\n",
            "[flaml.automl: 05-25 14:04:32] {3036} INFO -  at 18.1s,\testimator xgboost's best error=0.1981,\tbest estimator lgbm's best error=0.1377\n",
            "[flaml.automl: 05-25 14:04:32] {2853} INFO - iteration 46, current learner lgbm\n",
            "[flaml.automl: 05-25 14:04:32] {3036} INFO -  at 18.4s,\testimator lgbm's best error=0.1377,\tbest estimator lgbm's best error=0.1377\n",
            "[flaml.automl: 05-25 14:04:32] {2853} INFO - iteration 47, current learner xgboost\n",
            "[flaml.automl: 05-25 14:04:32] {3036} INFO -  at 18.5s,\testimator xgboost's best error=0.1981,\tbest estimator lgbm's best error=0.1377\n",
            "[flaml.automl: 05-25 14:04:32] {2853} INFO - iteration 48, current learner lgbm\n",
            "[flaml.automl: 05-25 14:04:32] {3036} INFO -  at 18.8s,\testimator lgbm's best error=0.1377,\tbest estimator lgbm's best error=0.1377\n",
            "[flaml.automl: 05-25 14:04:32] {2853} INFO - iteration 49, current learner xgboost\n",
            "[flaml.automl: 05-25 14:04:33] {3036} INFO -  at 18.9s,\testimator xgboost's best error=0.1981,\tbest estimator lgbm's best error=0.1377\n",
            "[flaml.automl: 05-25 14:04:33] {2853} INFO - iteration 50, current learner xgboost\n",
            "[flaml.automl: 05-25 14:04:33] {3036} INFO -  at 19.0s,\testimator xgboost's best error=0.1981,\tbest estimator lgbm's best error=0.1377\n",
            "[flaml.automl: 05-25 14:04:33] {2853} INFO - iteration 51, current learner lgbm\n",
            "[flaml.automl: 05-25 14:04:33] {3036} INFO -  at 19.3s,\testimator lgbm's best error=0.1377,\tbest estimator lgbm's best error=0.1377\n",
            "[flaml.automl: 05-25 14:04:33] {2853} INFO - iteration 52, current learner lgbm\n",
            "[flaml.automl: 05-25 14:04:33] {3036} INFO -  at 19.5s,\testimator lgbm's best error=0.1377,\tbest estimator lgbm's best error=0.1377\n",
            "[flaml.automl: 05-25 14:04:33] {2853} INFO - iteration 53, current learner lgbm\n",
            "[flaml.automl: 05-25 14:04:33] {3036} INFO -  at 19.7s,\testimator lgbm's best error=0.1377,\tbest estimator lgbm's best error=0.1377\n",
            "[flaml.automl: 05-25 14:04:33] {2853} INFO - iteration 54, current learner lgbm\n",
            "[flaml.automl: 05-25 14:04:34] {3036} INFO -  at 19.9s,\testimator lgbm's best error=0.1377,\tbest estimator lgbm's best error=0.1377\n",
            "[flaml.automl: 05-25 14:04:34] {2853} INFO - iteration 55, current learner xgboost\n",
            "[flaml.automl: 05-25 14:04:34] {3036} INFO -  at 20.0s,\testimator xgboost's best error=0.1981,\tbest estimator lgbm's best error=0.1377\n",
            "[flaml.automl: 05-25 14:04:34] {2853} INFO - iteration 56, current learner lgbm\n",
            "[flaml.automl: 05-25 14:04:34] {3036} INFO -  at 20.2s,\testimator lgbm's best error=0.1377,\tbest estimator lgbm's best error=0.1377\n",
            "[flaml.automl: 05-25 14:04:34] {2853} INFO - iteration 57, current learner lgbm\n",
            "[flaml.automl: 05-25 14:04:34] {3036} INFO -  at 20.5s,\testimator lgbm's best error=0.1377,\tbest estimator lgbm's best error=0.1377\n",
            "[flaml.automl: 05-25 14:04:34] {2853} INFO - iteration 58, current learner xgboost\n",
            "[flaml.automl: 05-25 14:04:34] {3036} INFO -  at 20.7s,\testimator xgboost's best error=0.1981,\tbest estimator lgbm's best error=0.1377\n",
            "[flaml.automl: 05-25 14:04:34] {2853} INFO - iteration 59, current learner lgbm\n",
            "[flaml.automl: 05-25 14:04:35] {3036} INFO -  at 20.9s,\testimator lgbm's best error=0.1377,\tbest estimator lgbm's best error=0.1377\n",
            "[flaml.automl: 05-25 14:04:35] {2853} INFO - iteration 60, current learner xgboost\n",
            "[flaml.automl: 05-25 14:04:35] {3036} INFO -  at 21.0s,\testimator xgboost's best error=0.1981,\tbest estimator lgbm's best error=0.1377\n",
            "[flaml.automl: 05-25 14:04:35] {2853} INFO - iteration 61, current learner lgbm\n",
            "[flaml.automl: 05-25 14:04:35] {3036} INFO -  at 21.3s,\testimator lgbm's best error=0.1377,\tbest estimator lgbm's best error=0.1377\n",
            "[flaml.automl: 05-25 14:04:35] {2853} INFO - iteration 62, current learner xgboost\n",
            "[flaml.automl: 05-25 14:04:35] {3036} INFO -  at 21.4s,\testimator xgboost's best error=0.1981,\tbest estimator lgbm's best error=0.1377\n",
            "[flaml.automl: 05-25 14:04:35] {2853} INFO - iteration 63, current learner xgboost\n",
            "[flaml.automl: 05-25 14:04:35] {3036} INFO -  at 21.6s,\testimator xgboost's best error=0.1981,\tbest estimator lgbm's best error=0.1377\n",
            "[flaml.automl: 05-25 14:04:35] {2853} INFO - iteration 64, current learner lgbm\n",
            "[flaml.automl: 05-25 14:04:36] {3036} INFO -  at 21.8s,\testimator lgbm's best error=0.1377,\tbest estimator lgbm's best error=0.1377\n",
            "[flaml.automl: 05-25 14:04:36] {2853} INFO - iteration 65, current learner xgboost\n",
            "[flaml.automl: 05-25 14:04:36] {3036} INFO -  at 22.0s,\testimator xgboost's best error=0.1981,\tbest estimator lgbm's best error=0.1377\n",
            "[flaml.automl: 05-25 14:04:36] {2853} INFO - iteration 66, current learner xgboost\n",
            "[flaml.automl: 05-25 14:04:36] {3036} INFO -  at 22.1s,\testimator xgboost's best error=0.1981,\tbest estimator lgbm's best error=0.1377\n",
            "[flaml.automl: 05-25 14:04:36] {2853} INFO - iteration 67, current learner xgboost\n",
            "[flaml.automl: 05-25 14:04:36] {3036} INFO -  at 22.3s,\testimator xgboost's best error=0.1967,\tbest estimator lgbm's best error=0.1377\n",
            "[flaml.automl: 05-25 14:04:36] {2853} INFO - iteration 68, current learner lgbm\n",
            "[flaml.automl: 05-25 14:04:36] {3036} INFO -  at 22.5s,\testimator lgbm's best error=0.1377,\tbest estimator lgbm's best error=0.1377\n",
            "[flaml.automl: 05-25 14:04:36] {2853} INFO - iteration 69, current learner lgbm\n",
            "[flaml.automl: 05-25 14:04:36] {3036} INFO -  at 22.8s,\testimator lgbm's best error=0.1377,\tbest estimator lgbm's best error=0.1377\n",
            "[flaml.automl: 05-25 14:04:36] {2853} INFO - iteration 70, current learner lgbm\n",
            "[flaml.automl: 05-25 14:04:37] {3036} INFO -  at 23.0s,\testimator lgbm's best error=0.1377,\tbest estimator lgbm's best error=0.1377\n",
            "[flaml.automl: 05-25 14:04:37] {2853} INFO - iteration 71, current learner lgbm\n",
            "[flaml.automl: 05-25 14:04:37] {3036} INFO -  at 23.4s,\testimator lgbm's best error=0.1377,\tbest estimator lgbm's best error=0.1377\n",
            "[flaml.automl: 05-25 14:04:37] {2853} INFO - iteration 72, current learner extra_tree\n",
            "[flaml.automl: 05-25 14:04:39] {3036} INFO -  at 25.3s,\testimator extra_tree's best error=0.2359,\tbest estimator lgbm's best error=0.1377\n",
            "[flaml.automl: 05-25 14:04:39] {2853} INFO - iteration 73, current learner lgbm\n",
            "[flaml.automl: 05-25 14:04:39] {3036} INFO -  at 25.4s,\testimator lgbm's best error=0.1377,\tbest estimator lgbm's best error=0.1377\n",
            "[flaml.automl: 05-25 14:04:39] {2853} INFO - iteration 74, current learner extra_tree\n",
            "[flaml.automl: 05-25 14:04:41] {3036} INFO -  at 27.3s,\testimator extra_tree's best error=0.2359,\tbest estimator lgbm's best error=0.1377\n",
            "[flaml.automl: 05-25 14:04:41] {2853} INFO - iteration 75, current learner lgbm\n",
            "[flaml.automl: 05-25 14:04:41] {3036} INFO -  at 27.4s,\testimator lgbm's best error=0.1377,\tbest estimator lgbm's best error=0.1377\n",
            "[flaml.automl: 05-25 14:04:41] {2853} INFO - iteration 76, current learner lgbm\n",
            "[flaml.automl: 05-25 14:04:42] {3036} INFO -  at 27.8s,\testimator lgbm's best error=0.1377,\tbest estimator lgbm's best error=0.1377\n",
            "[flaml.automl: 05-25 14:04:42] {2853} INFO - iteration 77, current learner rf\n",
            "[flaml.automl: 05-25 14:04:43] {3036} INFO -  at 29.6s,\testimator rf's best error=0.2121,\tbest estimator lgbm's best error=0.1377\n",
            "[flaml.automl: 05-25 14:04:43] {2853} INFO - iteration 78, current learner lgbm\n",
            "[flaml.automl: 05-25 14:04:43] {3036} INFO -  at 29.8s,\testimator lgbm's best error=0.1377,\tbest estimator lgbm's best error=0.1377\n",
            "[flaml.automl: 05-25 14:04:43] {2853} INFO - iteration 79, current learner lgbm\n",
            "[flaml.automl: 05-25 14:04:44] {3036} INFO -  at 30.0s,\testimator lgbm's best error=0.1377,\tbest estimator lgbm's best error=0.1377\n",
            "[flaml.automl: 05-25 14:04:44] {3292} INFO - retrain lgbm for 0.0s\n",
            "[flaml.automl: 05-25 14:04:44] {3297} INFO - retrained model: LGBMClassifier(colsample_bytree=0.9700086872817888,\n",
            "               learning_rate=0.6184522712037844, max_bin=255,\n",
            "               min_child_samples=3, n_estimators=22, num_leaves=23,\n",
            "               reg_alpha=0.008603993896916498, reg_lambda=0.001036966593769252,\n",
            "               verbose=-1)\n",
            "[flaml.automl: 05-25 14:04:44] {2592} INFO - fit succeeded\n",
            "[flaml.automl: 05-25 14:04:44] {2594} INFO - Time taken to find the best model: 2.827671527862549\n"
          ]
        }
      ]
    },
    {
      "cell_type": "markdown",
      "source": [
        "ベストモデルの確認\n",
        "以下のコードでベストモデルの情報を確認できます。\n",
        "\n",
        "---\n",
        "\n"
      ],
      "metadata": {
        "id": "eyUU9moGibVb"
      }
    },
    {
      "cell_type": "code",
      "source": [
        "print('Best ML leaner:', automl.best_estimator)\n",
        "print('Best hyperparmeter config:', automl.best_config)\n",
        "print('Best accuracy on validation data: {0:.4g}'.format(1-automl.best_loss))\n",
        "print('Training duration of best run: {0:.4g} s'.format(automl.best_config_train_time))"
      ],
      "metadata": {
        "colab": {
          "base_uri": "https://localhost:8080/"
        },
        "id": "cLa_gGFbiSZV",
        "outputId": "3d4917de-ed40-43ac-c653-b34fd1b9e566"
      },
      "execution_count": 9,
      "outputs": [
        {
          "output_type": "stream",
          "name": "stdout",
          "text": [
            "Best ML leaner: lgbm\n",
            "Best hyperparmeter config: {'n_estimators': 22, 'num_leaves': 23, 'min_child_samples': 3, 'learning_rate': 0.6184522712037844, 'log_max_bin': 8, 'colsample_bytree': 0.9700086872817888, 'reg_alpha': 0.008603993896916498, 'reg_lambda': 0.001036966593769252}\n",
            "Best accuracy on validation data: 0.8623\n",
            "Training duration of best run: 0.03914 s\n"
          ]
        }
      ]
    },
    {
      "cell_type": "markdown",
      "source": [
        "AutoML ログ\n",
        "AutoMLの過程は automl.log に記録されます。以下のコードで可視化もできます。\n",
        "\n",
        "---\n",
        "\n"
      ],
      "metadata": {
        "id": "Mm2bldYQicM8"
      }
    },
    {
      "cell_type": "code",
      "source": [
        "time_history, best_valid_loss_history, valid_loss_history, config_history, metric_history = \\\n",
        "    get_output_from_log(filename=settings['log_file_name'], time_budget=240)\n",
        "\n",
        "plt.title('Learning Curve')\n",
        "plt.xlabel('Wall Clock Time (s)')\n",
        "plt.ylabel('Validation Accuracy')\n",
        "plt.scatter(time_history, 1 - np.array(valid_loss_history))\n",
        "plt.step(time_history, 1 - np.array(best_valid_loss_history), where='post')\n",
        "plt.show()"
      ],
      "metadata": {
        "colab": {
          "base_uri": "https://localhost:8080/",
          "height": 295
        },
        "id": "fGRz2k_CiZZ3",
        "outputId": "a85537ec-a3da-4ba1-c7b3-41ea0c50252d"
      },
      "execution_count": 10,
      "outputs": [
        {
          "output_type": "display_data",
          "data": {
            "text/plain": [
              "<Figure size 432x288 with 1 Axes>"
            ],
            "image/png": "[encoded data removed]"
          },
          "metadata": {
            "needs_background": "light"
          }
        }
      ]
    },
    {
      "cell_type": "markdown",
      "source": [
        "feature importance（特徴量重要度）\n",
        "以下のコードで feature importance（特徴量重要度）を可視化できます。\n",
        "\n",
        "---\n",
        "\n"
      ],
      "metadata": {
        "id": "kRBNKMnsigZD"
      }
    },
    {
      "cell_type": "code",
      "source": [
        "plt.barh(\n",
        "            automl.model.estimator.feature_name_,\n",
        "            automl.model.estimator.feature_importances_\n",
        "         )"
      ],
      "metadata": {
        "colab": {
          "base_uri": "https://localhost:8080/",
          "height": 283
        },
        "id": "D3hG4hcrijJx",
        "outputId": "90897a22-7113-444d-9d19-2bebbc060f93"
      },
      "execution_count": 12,
      "outputs": [
        {
          "output_type": "execute_result",
          "data": {
            "text/plain": [
              "<BarContainer object of 11 artists>"
            ]
          },
          "metadata": {},
          "execution_count": 12
        },
        {
          "output_type": "display_data",
          "data": {
            "text/plain": [
              "<Figure size 432x288 with 1 Axes>"
            ],
            "image/png": "[encoded data removed]"
          },
          "metadata": {
            "needs_background": "light"
          }
        }
      ]
    },
    {
      "cell_type": "code",
      "source": [
        "y_pred = automl.predict(X_test)\n",
        "print('Predicted labels', y_pred)\n",
        "print('True labels     ', y_test)\n",
        "#print(y_test-y_pred) # 真値と予測値の差分"
      ],
      "metadata": {
        "colab": {
          "base_uri": "https://localhost:8080/"
        },
        "id": "1b-McGVLiq8O",
        "outputId": "0e6567ff-9ab9-42b8-a6db-065c05e91bbf"
      },
      "execution_count": 17,
      "outputs": [
        {
          "output_type": "stream",
          "name": "stdout",
          "text": [
            "Predicted labels [0 1 0 0 0 1 0 0 1 1 1 1 1 1 0 1 0 1 0 0 0 0 0 0 0 1 0 0 0 1 0 0 1 0 1 1 0\n",
            " 1 1 0 0 0 0 0 0 1 0 1 0 0 0 0 0 0 1 0 1 1 0 0 0 0 1 1 1 1 1 1 0 1 1 1 1 1\n",
            " 1 1 0 1 0 1 0 0 0 1 0 0 1 0 0 0 1 0 0 0 1 0 0 0 0 0 1 0 0 0 1 0 0 1 1 0 0\n",
            " 1 0 0 0 0 0 0 0 0 1 1 0 1 0 0 1 1 1 0 0 0 0 1 0 0 0 1 1 1 0 1 0 1 1 1 0 0\n",
            " 0 1 1 0 1 0 0 1 0 1 1 0 1 0 0 0 1 0 0 1 0 1 1 1 0 0 0 1 1 1 0]\n",
            "True labels      176    0\n",
            "762    1\n",
            "623    0\n",
            "408    0\n",
            "685    0\n",
            "      ..\n",
            "340    0\n",
            "51     1\n",
            "265    1\n",
            "401    1\n",
            "180    1\n",
            "Name: disease, Length: 179, dtype: int64\n"
          ]
        }
      ]
    },
    {
      "cell_type": "code",
      "source": [
        "# 推論\n",
        "my_pred = automl.predict(test)\n",
        "print(\"result：\", my_pred)  #  result is 0 or 1"
      ],
      "metadata": {
        "colab": {
          "base_uri": "https://localhost:8080/"
        },
        "id": "hul5SVatjBRz",
        "outputId": "a4419075-166a-4689-9e53-fbd784a75932"
      },
      "execution_count": 19,
      "outputs": [
        {
          "output_type": "stream",
          "name": "stdout",
          "text": [
            "result： [0 1 1 1 1 1 0 0 1 0 1 0 1 1 0 0 1 1 1 0 0 0 0 0 1 0 0 1 0 1 1 0 1 1 0 0 1\n",
            " 1 0 0 1 0 0 0 0 1 1 1 0 0 1 1 1 0 1 0 0 0 1 0 1 0 0 0 1 0 0 1 1 1 1 0 0 0\n",
            " 0 0 0 1 1 1 0 0 1 0 0 0 1 1 1 0 0 0 0 0 0 1 1 1 1 0 1 1 0 1 0 1 1 0 1 0 0\n",
            " 0 0 0 0 0 1 0 1 1 1 0 0 0 1 0 0 1 1 0 1 1 1 0 0 0 0 1 0 1 1 0 0 1 0 0 1 1\n",
            " 1 1 1 1 0 1 0 0 0 0 0 1 1 0 1 0 0 0 1 1 0 0 0 1 1 1 1 1 0 1 0 0 1 0 0 0 0\n",
            " 1 0 0 1 1 1 1 0 1 1 0 1 0 1 0 0 1 0 0 0 1 1 1 0 1 1 1 1 0 0 1 1 0 0 1 1 0\n",
            " 0 1 0 1 1 0 0 1 0 0 1 0 0 1 1 0 1 1 1 0 0 0 0 0 1 1 1 0 0 1 1 1 0 1 0 1 0\n",
            " 0 1 1 0 1 1 1 0 1 1 1 1 0 0 1 1 1 1 1 1 0 0 1 1 1 0 0 0 0 1 0 1 0 0 0 0 0\n",
            " 1 1 0 1 1 1 0 0 0 1 1 0 1 1 1 1 0 1 0 0 1 0 1 1 1 0 1 0 1 1 0 1 1 1 0 0 0\n",
            " 0 1 1 0 1 1 0 1 0 1 0 1 1 0 1 0 1 1 0 0 1 1 0 1 0 0 0 0 1 1 1 0 0 1 0 0 0\n",
            " 1 1 0 0 0 1 0 0 0 0 0 1]\n"
          ]
        }
      ]
    }
  ]
}