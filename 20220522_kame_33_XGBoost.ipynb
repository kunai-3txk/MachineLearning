{
  "nbformat": 4,
  "nbformat_minor": 0,
  "metadata": {
    "colab": {
      "name": "20220522_kame_33_XGBoost.ipynb",
      "provenance": [],
      "authorship_tag": "ABX9TyOgnARwA59swzxUpZosD85s",
      "include_colab_link": true
    },
    "kernelspec": {
      "name": "python3",
      "display_name": "Python 3"
    },
    "language_info": {
      "name": "python"
    }
  },
  "cells": [
    {
      "cell_type": "markdown",
      "metadata": {
        "id": "view-in-github",
        "colab_type": "text"
      },
      "source": [
        "<a href=\"https://colab.research.google.com/github/kunai-3txk/colab/blob/main/20220522_kame_33_XGBoost.ipynb\" target=\"_parent\"><img src=\"https://colab.research.google.com/assets/colab-badge.svg\" alt=\"Open In Colab\"/></a>"
      ]
    },
    {
      "cell_type": "markdown",
      "source": [
        "XGBoostの概要とPython実装をわかりやすく解説【機械学習入門32】\n",
        "\n",
        "https://datawokagaku.com/xgboost/\n",
        "\n",
        "---\n",
        "\n"
      ],
      "metadata": {
        "id": "3iNSnpB9sCW1"
      }
    },
    {
      "cell_type": "markdown",
      "source": [
        "過学習を抑えるための工夫\n",
        "XGBoostは，先ほどの正則化項以外にも色々と過学習を抑えるための工夫をしています\n",
        "\n",
        "Shrinkage(縮小)\n",
        "\n",
        "それぞれの決定木の結果に係数η(０〜1)をつけることで，それぞれの決定木の影響を小さく(縮小=shrinkage)します．\n",
        "\n",
        "Column Subsampling\n",
        "\n",
        "一つ一つの決定木の分割に使う特徴量をランダムに選択します．(つまり，一部の特徴量のみ分割して決定木を作ります)\n",
        "\n",
        "---\n",
        "\n"
      ],
      "metadata": {
        "id": "eKAlAr9TsWbJ"
      }
    },
    {
      "cell_type": "markdown",
      "source": [
        "PythonでXGBoostを使う\n",
        "\n",
        "回帰モデルには xgboost.XGBRegressor を，分類モデルには xgboost.XGBClassifier を使います．どちらも仕様はほとんど同じです\n",
        "\n",
        "---\n",
        "\n"
      ],
      "metadata": {
        "id": "jt-WvYDDskV8"
      }
    },
    {
      "cell_type": "code",
      "execution_count": null,
      "metadata": {
        "id": "dWE5oqaJr3bX"
      },
      "outputs": [],
      "source": [
        "import pandas as pd\n",
        "import seaborn as sns\n",
        "\n",
        "df = sns.load_dataset('titanic')\n",
        "# df = df.dropna()\n",
        "X = df.loc[:, (df.columns!='survived') & (df.columns!='alive')]\n",
        "X = pd.get_dummies(X, drop_first=True)\n",
        "y = df['survived']\n",
        "\n",
        "from sklearn.model_selection import train_test_split\n",
        "X_train, X_test, y_train, y_test = train_test_split(X, y, test_size=0.3)"
      ]
    },
    {
      "cell_type": "markdown",
      "source": [
        "今まで通りなので説明は省きますが，実はXGBoostは欠損値を対処するアルゴリズムが組み込まれているので，欠損値をdropしたり代入する必要がなく，欠損値があるデータをそのままモデルに学習させることができます．\n",
        "\n",
        "---\n",
        "\n"
      ],
      "metadata": {
        "id": "A6Mmf9Bts1yU"
      }
    },
    {
      "cell_type": "markdown",
      "source": [
        "XGBClassifier() のインスタンス生成時のパラメータは以下があります．\n",
        "\n",
        "n_estimators : ブースティングの回数(=学習する決定木の数)．デフォルトは100．\n",
        "\n",
        "learning_rate : shrinkageのη．デフォルトは0.3なので少し高め．(低スペックマシンでの実行を想定しているのだと思われます．)\n",
        "\n",
        "max_depth : 決定木の最高の深さ．デフォルトは6\n",
        "\n",
        "eval_metric : ブースティング時の各イテレーション時に使う評価指標(特に後述するearly stoppingに使用). sklearn.metricsのメソッドを渡すか，自作してもOK．デフォルトは 'logloss'\n",
        "\n",
        "early_stopping_rounds : early stoppingする際の，最低限ブースティングのイテレーションをする回数\n",
        "\n",
        "---\n",
        "early stoppingというのは，ブースティングのイテレーション時に評価指標がこれ以上下がらなくなったら自動で学習をやめてくれます．この仕組みにより， n_estimators や learning_rate のパラメータを探索する必要がほとんどなくなります． n_estimators には高い数字を， learning_rate には低い数字をセットしておけば，あとはearly stoppingで学習を回せば最も精度が高くなったところで自動で学習をやめてくれます．\n",
        "\n",
        "---\n",
        "\n",
        "\n"
      ],
      "metadata": {
        "id": "AYBTkObJs_mD"
      }
    },
    {
      "cell_type": "code",
      "source": [
        "pip install xgboost"
      ],
      "metadata": {
        "colab": {
          "base_uri": "https://localhost:8080/"
        },
        "id": "HCM6z3Mlufso",
        "outputId": "87bf6b84-0000-450c-c808-04da6b591568"
      },
      "execution_count": null,
      "outputs": [
        {
          "output_type": "stream",
          "name": "stdout",
          "text": [
            "Requirement already satisfied: xgboost in /usr/local/lib/python3.7/dist-packages (0.90)\n",
            "Requirement already satisfied: scipy in /usr/local/lib/python3.7/dist-packages (from xgboost) (1.4.1)\n",
            "Requirement already satisfied: numpy in /usr/local/lib/python3.7/dist-packages (from xgboost) (1.21.6)\n"
          ]
        }
      ]
    },
    {
      "cell_type": "code",
      "source": [
        "from xgboost import XGBClassifier\n",
        "model = XGBClassifier(n_estimators=1000)"
      ],
      "metadata": {
        "id": "CzVI8XpQs0ZO"
      },
      "execution_count": null,
      "outputs": []
    },
    {
      "cell_type": "markdown",
      "source": [
        ".fit()のよく使う引数は以下です．\n",
        "\n",
        "eval_set : (X, y)のリストで，これを渡すと，ブースティング時の各イテレーションごとにこのデータセットを使って評価してくれる．\n",
        "\n",
        "verbose : Trueにすると，各イテレーションでの評価指標などを表示し，イテレーションの軌跡を確認できる．\n",
        "\n",
        "---\n",
        "\n"
      ],
      "metadata": {
        "id": "IBk9PzNntVfO"
      }
    },
    {
      "cell_type": "code",
      "source": [
        "#今回は，テストデータを各イテレーションで評価するデータとして使います．\n",
        "eval_set = [(X_test, y_test)]\n",
        "model.fit(X_train, y_train, eval_set=eval_set, verbose=True,early_stopping_rounds=10)\n",
        "#model.fit(X_train, y_train,verbose=True)\n"
      ],
      "metadata": {
        "colab": {
          "base_uri": "https://localhost:8080/"
        },
        "id": "HAYQh8xwtX2y",
        "outputId": "210ac8d2-2793-444c-aa35-17d3cc70530d"
      },
      "execution_count": null,
      "outputs": [
        {
          "output_type": "stream",
          "name": "stdout",
          "text": [
            "[0]\tvalidation_0-error:0.253731\n",
            "Will train until validation_0-error hasn't improved in 10 rounds.\n",
            "[1]\tvalidation_0-error:0.253731\n",
            "[2]\tvalidation_0-error:0.201493\n",
            "[3]\tvalidation_0-error:0.197761\n",
            "[4]\tvalidation_0-error:0.197761\n",
            "[5]\tvalidation_0-error:0.197761\n",
            "[6]\tvalidation_0-error:0.186567\n",
            "[7]\tvalidation_0-error:0.186567\n",
            "[8]\tvalidation_0-error:0.179104\n",
            "[9]\tvalidation_0-error:0.179104\n",
            "[10]\tvalidation_0-error:0.179104\n",
            "[11]\tvalidation_0-error:0.190299\n",
            "[12]\tvalidation_0-error:0.190299\n",
            "[13]\tvalidation_0-error:0.190299\n",
            "[14]\tvalidation_0-error:0.190299\n",
            "[15]\tvalidation_0-error:0.190299\n",
            "[16]\tvalidation_0-error:0.19403\n",
            "[17]\tvalidation_0-error:0.19403\n",
            "[18]\tvalidation_0-error:0.190299\n",
            "Stopping. Best iteration:\n",
            "[8]\tvalidation_0-error:0.179104\n",
            "\n"
          ]
        },
        {
          "output_type": "execute_result",
          "data": {
            "text/plain": [
              "XGBClassifier(early_stopping_rounds=10, n_estimators=1000)"
            ]
          },
          "metadata": {},
          "execution_count": 20
        }
      ]
    },
    {
      "cell_type": "code",
      "source": [
        "from sklearn import metrics\n",
        "y_pred = model.predict_proba(X_test)\n",
        "metrics.log_loss(y_test, y_pred)"
      ],
      "metadata": {
        "colab": {
          "base_uri": "https://localhost:8080/"
        },
        "id": "zsSiXdCht1H8",
        "outputId": "d11627b6-6e25-45aa-a928-cb37273bce29"
      },
      "execution_count": null,
      "outputs": [
        {
          "output_type": "execute_result",
          "data": {
            "text/plain": [
              "0.49012428766755917"
            ]
          },
          "metadata": {},
          "execution_count": 23
        }
      ]
    },
    {
      "cell_type": "markdown",
      "source": [
        "特徴量の重要度\n",
        "ランダムフォレスト同様，XGBoostも特徴量の重要度を出すことができます．( xgboost.plot_importance(model) でも同様なplotをしてくれる便利な関数が実装されています．)\n",
        "\n",
        "\n",
        "---\n",
        "\n"
      ],
      "metadata": {
        "id": "KxfsfoKRvEI2"
      }
    }
  ]
}