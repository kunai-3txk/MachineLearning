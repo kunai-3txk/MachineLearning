{
  "nbformat": 4,
  "nbformat_minor": 0,
  "metadata": {
    "colab": {
      "provenance": [],
      "collapsed_sections": [],
      "authorship_tag": "ABX9TyMr/9CaMSTXed4ai0VTZkmT",
      "include_colab_link": true
    },
    "kernelspec": {
      "name": "python3",
      "display_name": "Python 3"
    },
    "language_info": {
      "name": "python"
    }
  },
  "cells": [
    {
      "cell_type": "markdown",
      "metadata": {
        "id": "view-in-github",
        "colab_type": "text"
      },
      "source": [
        "<a href=\"https://colab.research.google.com/github/kunai-3txk/colab/blob/main/20221010_TOKUHO_simu.ipynb\" target=\"_parent\"><img src=\"https://colab.research.google.com/assets/colab-badge.svg\" alt=\"Open In Colab\"/></a>"
      ]
    },
    {
      "cell_type": "code",
      "source": [
        "#ライブラリ\n",
        "import numpy as np\n",
        "import pandas as pd\n",
        "import matplotlib.pyplot as plt\n",
        "from sklearn.ensemble import RandomForestRegressor"
      ],
      "metadata": {
        "id": "fV1dAaQ6A2lj"
      },
      "execution_count": 30,
      "outputs": []
    },
    {
      "cell_type": "code",
      "execution_count": 27,
      "metadata": {
        "colab": {
          "base_uri": "https://localhost:8080/",
          "height": 424
        },
        "id": "1FfLAtNG_yb3",
        "outputId": "a5a2c210-d76c-4710-be49-7e23f9e32f26"
      },
      "outputs": [
        {
          "output_type": "display_data",
          "data": {
            "text/plain": [
              "      old  sex     weight  intervention\n",
              "0    57.0  0.0  51.843929           0.0\n",
              "1    38.0  0.0  44.395882           0.0\n",
              "2    57.0  1.0  55.997790           0.0\n",
              "3    40.0  1.0  53.665595           0.0\n",
              "4    37.0  1.0  61.171136           0.0\n",
              "..    ...  ...        ...           ...\n",
              "995  57.0  1.0  57.384729           1.0\n",
              "996  46.0  1.0  62.965203           1.0\n",
              "997  34.0  0.0  66.059994           1.0\n",
              "998  37.0  0.0  51.292803           1.0\n",
              "999  50.0  1.0  74.903631           1.0\n",
              "\n",
              "[1000 rows x 4 columns]"
            ],
            "text/html": [
              "\n",
              "  <div id=\"df-6d929a12-fd37-435b-b694-239c7671c01c\">\n",
              "    <div class=\"colab-df-container\">\n",
              "      <div>\n",
              "<style scoped>\n",
              "    .dataframe tbody tr th:only-of-type {\n",
              "        vertical-align: middle;\n",
              "    }\n",
              "\n",
              "    .dataframe tbody tr th {\n",
              "        vertical-align: top;\n",
              "    }\n",
              "\n",
              "    .dataframe thead th {\n",
              "        text-align: right;\n",
              "    }\n",
              "</style>\n",
              "<table border=\"1\" class=\"dataframe\">\n",
              "  <thead>\n",
              "    <tr style=\"text-align: right;\">\n",
              "      <th></th>\n",
              "      <th>old</th>\n",
              "      <th>sex</th>\n",
              "      <th>weight</th>\n",
              "      <th>intervention</th>\n",
              "    </tr>\n",
              "  </thead>\n",
              "  <tbody>\n",
              "    <tr>\n",
              "      <th>0</th>\n",
              "      <td>57.0</td>\n",
              "      <td>0.0</td>\n",
              "      <td>51.843929</td>\n",
              "      <td>0.0</td>\n",
              "    </tr>\n",
              "    <tr>\n",
              "      <th>1</th>\n",
              "      <td>38.0</td>\n",
              "      <td>0.0</td>\n",
              "      <td>44.395882</td>\n",
              "      <td>0.0</td>\n",
              "    </tr>\n",
              "    <tr>\n",
              "      <th>2</th>\n",
              "      <td>57.0</td>\n",
              "      <td>1.0</td>\n",
              "      <td>55.997790</td>\n",
              "      <td>0.0</td>\n",
              "    </tr>\n",
              "    <tr>\n",
              "      <th>3</th>\n",
              "      <td>40.0</td>\n",
              "      <td>1.0</td>\n",
              "      <td>53.665595</td>\n",
              "      <td>0.0</td>\n",
              "    </tr>\n",
              "    <tr>\n",
              "      <th>4</th>\n",
              "      <td>37.0</td>\n",
              "      <td>1.0</td>\n",
              "      <td>61.171136</td>\n",
              "      <td>0.0</td>\n",
              "    </tr>\n",
              "    <tr>\n",
              "      <th>...</th>\n",
              "      <td>...</td>\n",
              "      <td>...</td>\n",
              "      <td>...</td>\n",
              "      <td>...</td>\n",
              "    </tr>\n",
              "    <tr>\n",
              "      <th>995</th>\n",
              "      <td>57.0</td>\n",
              "      <td>1.0</td>\n",
              "      <td>57.384729</td>\n",
              "      <td>1.0</td>\n",
              "    </tr>\n",
              "    <tr>\n",
              "      <th>996</th>\n",
              "      <td>46.0</td>\n",
              "      <td>1.0</td>\n",
              "      <td>62.965203</td>\n",
              "      <td>1.0</td>\n",
              "    </tr>\n",
              "    <tr>\n",
              "      <th>997</th>\n",
              "      <td>34.0</td>\n",
              "      <td>0.0</td>\n",
              "      <td>66.059994</td>\n",
              "      <td>1.0</td>\n",
              "    </tr>\n",
              "    <tr>\n",
              "      <th>998</th>\n",
              "      <td>37.0</td>\n",
              "      <td>0.0</td>\n",
              "      <td>51.292803</td>\n",
              "      <td>1.0</td>\n",
              "    </tr>\n",
              "    <tr>\n",
              "      <th>999</th>\n",
              "      <td>50.0</td>\n",
              "      <td>1.0</td>\n",
              "      <td>74.903631</td>\n",
              "      <td>1.0</td>\n",
              "    </tr>\n",
              "  </tbody>\n",
              "</table>\n",
              "<p>1000 rows × 4 columns</p>\n",
              "</div>\n",
              "      <button class=\"colab-df-convert\" onclick=\"convertToInteractive('df-6d929a12-fd37-435b-b694-239c7671c01c')\"\n",
              "              title=\"Convert this dataframe to an interactive table.\"\n",
              "              style=\"display:none;\">\n",
              "        \n",
              "  <svg xmlns=\"http://www.w3.org/2000/svg\" height=\"24px\"viewBox=\"0 0 24 24\"\n",
              "       width=\"24px\">\n",
              "    <path d=\"M0 0h24v24H0V0z\" fill=\"none\"/>\n",
              "    <path d=\"M18.56 5.44l.94 2.06.94-2.06 2.06-.94-2.06-.94-.94-2.06-.94 2.06-2.06.94zm-11 1L8.5 8.5l.94-2.06 2.06-.94-2.06-.94L8.5 2.5l-.94 2.06-2.06.94zm10 10l.94 2.06.94-2.06 2.06-.94-2.06-.94-.94-2.06-.94 2.06-2.06.94z\"/><path d=\"M17.41 7.96l-1.37-1.37c-.4-.4-.92-.59-1.43-.59-.52 0-1.04.2-1.43.59L10.3 9.45l-7.72 7.72c-.78.78-.78 2.05 0 2.83L4 21.41c.39.39.9.59 1.41.59.51 0 1.02-.2 1.41-.59l7.78-7.78 2.81-2.81c.8-.78.8-2.07 0-2.86zM5.41 20L4 18.59l7.72-7.72 1.47 1.35L5.41 20z\"/>\n",
              "  </svg>\n",
              "      </button>\n",
              "      \n",
              "  <style>\n",
              "    .colab-df-container {\n",
              "      display:flex;\n",
              "      flex-wrap:wrap;\n",
              "      gap: 12px;\n",
              "    }\n",
              "\n",
              "    .colab-df-convert {\n",
              "      background-color: #E8F0FE;\n",
              "      border: none;\n",
              "      border-radius: 50%;\n",
              "      cursor: pointer;\n",
              "      display: none;\n",
              "      fill: #1967D2;\n",
              "      height: 32px;\n",
              "      padding: 0 0 0 0;\n",
              "      width: 32px;\n",
              "    }\n",
              "\n",
              "    .colab-df-convert:hover {\n",
              "      background-color: #E2EBFA;\n",
              "      box-shadow: 0px 1px 2px rgba(60, 64, 67, 0.3), 0px 1px 3px 1px rgba(60, 64, 67, 0.15);\n",
              "      fill: #174EA6;\n",
              "    }\n",
              "\n",
              "    [theme=dark] .colab-df-convert {\n",
              "      background-color: #3B4455;\n",
              "      fill: #D2E3FC;\n",
              "    }\n",
              "\n",
              "    [theme=dark] .colab-df-convert:hover {\n",
              "      background-color: #434B5C;\n",
              "      box-shadow: 0px 1px 3px 1px rgba(0, 0, 0, 0.15);\n",
              "      filter: drop-shadow(0px 1px 2px rgba(0, 0, 0, 0.3));\n",
              "      fill: #FFFFFF;\n",
              "    }\n",
              "  </style>\n",
              "\n",
              "      <script>\n",
              "        const buttonEl =\n",
              "          document.querySelector('#df-6d929a12-fd37-435b-b694-239c7671c01c button.colab-df-convert');\n",
              "        buttonEl.style.display =\n",
              "          google.colab.kernel.accessAllowed ? 'block' : 'none';\n",
              "\n",
              "        async function convertToInteractive(key) {\n",
              "          const element = document.querySelector('#df-6d929a12-fd37-435b-b694-239c7671c01c');\n",
              "          const dataTable =\n",
              "            await google.colab.kernel.invokeFunction('convertToInteractive',\n",
              "                                                     [key], {});\n",
              "          if (!dataTable) return;\n",
              "\n",
              "          const docLinkHtml = 'Like what you see? Visit the ' +\n",
              "            '<a target=\"_blank\" href=https://colab.research.google.com/notebooks/data_table.ipynb>data table notebook</a>'\n",
              "            + ' to learn more about interactive tables.';\n",
              "          element.innerHTML = '';\n",
              "          dataTable['output_type'] = 'display_data';\n",
              "          await google.colab.output.renderOutput(dataTable, element);\n",
              "          const docLink = document.createElement('div');\n",
              "          docLink.innerHTML = docLinkHtml;\n",
              "          element.appendChild(docLink);\n",
              "        }\n",
              "      </script>\n",
              "    </div>\n",
              "  </div>\n",
              "  "
            ]
          },
          "metadata": {}
        }
      ],
      "source": [
        "#テストデータの作成\n",
        "# Y: weight X:sex old Intervention\n",
        "\n",
        "#1000名に対して100名介入とする\n",
        "N = 1000 #総数\n",
        "N_intervention = 100 #介入数\n",
        "\n",
        "old = np.random.randint(30,60,N) # 年齢は30-59の一様分布とする\n",
        "sex = np.random.randint(0,2,N) # 性別は0:男性 1:女性 分布はランダム\n",
        "weight = np.random.normal(60,10,N) #体重は平均60偏差10の正規分布\n",
        "\n",
        "df_zeros = np.zeros(N-N_intervention)\n",
        "df_ones = np.ones(N_intervention)\n",
        "intervention = np.hstack((df_zeros,df_ones)) #介入フラグ\n",
        "\n",
        "#display(old)\n",
        "#display(sex)\n",
        "#display(weight)\n",
        "#display(intervention)\n",
        "\n",
        "ar = np.vstack((old,sex,weight,intervention))\n",
        "columns=['old','sex','weight','intervention']\n",
        "\n",
        "df = pd.DataFrame(ar.T,columns=columns)\n",
        "\n",
        "display(df)"
      ]
    },
    {
      "cell_type": "code",
      "source": [
        "#介入効果の作成\n",
        "#体重が多いほど効果が高いとみなし…　⇒ まずは単純モデルの線形で\n",
        "# 効果（体重減少） = 5.0 X + 誤差項(平均1偏差0.5の正規分布)\n",
        "\n",
        "df_e_term = pd.DataFrame(np.random.normal(1,0.5,N),columns=['e'])\n",
        "\n",
        "df['weight'] = df['weight'] - (df['intervention']*5.0 + df_e_term['e'])\n",
        "\n",
        "#display(df)"
      ],
      "metadata": {
        "id": "FrZybep8NYis"
      },
      "execution_count": null,
      "outputs": []
    },
    {
      "cell_type": "code",
      "source": [
        "#ざっくり状況確認\n",
        "\n",
        "\n",
        "#ATE 算出\n",
        "#介入群(T=1)\n",
        "df_t1 = df[df['intervention']==1]\n",
        "#対照群(T=0)\n",
        "df_t0 = df[df['intervention']==0]\n",
        "\n",
        "diff = df_t1['weight'].mean()-df_t0['weight'].mean()\n",
        "\n",
        "display(diff) #-4.521749080827185"
      ],
      "metadata": {
        "colab": {
          "base_uri": "https://localhost:8080/",
          "height": 35
        },
        "id": "EZM5yuvuPshM",
        "outputId": "0430093f-d30b-4a41-b52c-d0b5539c3258"
      },
      "execution_count": 29,
      "outputs": [
        {
          "output_type": "display_data",
          "data": {
            "text/plain": [
              "-4.521749080827185"
            ]
          },
          "metadata": {}
        }
      ]
    },
    {
      "cell_type": "code",
      "source": [
        "#-----------------------\n",
        "# S-Learner 構築\n",
        "# https://zenn.dev/s1ok69oo/articles/491fbaf2092cd5\n",
        "#-----------------------\n",
        "\n",
        "# 手順1: モデルを学習\n",
        "# S-Learnerなので単独のモデルで実装\n",
        "reg_s1 = RandomForestRegressor(max_depth=3, random_state=0)\n",
        "X = df.loc[:,['old','sex','intervention']]\n",
        "reg_s1.fit(X, df['weight'])\n",
        "\n",
        "# 手順2: 広告を見ていない(T=0)データと広告を見た(T=1)データを作成\n",
        "X_0 = X.copy()\n",
        "X_0['intervention'] = 0\n",
        "\n",
        "X_1 = X.copy()\n",
        "X_1['intervention'] = 1\n",
        "\n",
        "# 手順3: 効果の推定\n",
        "mu_0 = reg_s1.predict(X_0)\n",
        "mu_1 = reg_s1.predict(X_1)\n",
        "display((mu_1 - mu_0).mean()) #-4.566057331823679"
      ],
      "metadata": {
        "colab": {
          "base_uri": "https://localhost:8080/",
          "height": 35
        },
        "id": "BnLjPUZbX74A",
        "outputId": "ea297314-99f8-48b4-d7f2-33215a2cc730"
      },
      "execution_count": 36,
      "outputs": [
        {
          "output_type": "display_data",
          "data": {
            "text/plain": [
              "-4.566057331823679"
            ]
          },
          "metadata": {}
        }
      ]
    },
    {
      "cell_type": "code",
      "source": [
        "#-----------------------\n",
        "# T-Learner 構築\n",
        "# https://zenn.dev/s1ok69oo/articles/4a36fee0297234\n",
        "#-----------------------\n",
        "\n",
        "# 手順1: 広告を見ていないグループの回帰モデルを作成\n",
        "reg_t1 = RandomForestRegressor(max_depth=3, random_state=0)\n",
        "reg_t1.fit(df_t0.loc[:,['old','sex','intervention']], df_t0['weight'])\n",
        "\n",
        "# 手順2: 広告を見たグループの回帰モデルを作成\n",
        "reg_t2 = RandomForestRegressor(max_depth=3, random_state=0)\n",
        "reg_t2.fit(df_t1.loc[:,['old','sex','intervention']], df_t1['weight'])\n",
        "\n",
        "# 手順3: 効果の推定\n",
        "mu_0 = reg_t1.predict(X)\n",
        "mu_1 = reg_t2.predict(X)\n",
        "display((mu_1 - mu_0).mean()) #-4.479550639531771"
      ],
      "metadata": {
        "colab": {
          "base_uri": "https://localhost:8080/",
          "height": 35
        },
        "id": "RX2lCX-za7XK",
        "outputId": "e55aa240-96e3-4b24-c238-f90c594db01f"
      },
      "execution_count": 38,
      "outputs": [
        {
          "output_type": "display_data",
          "data": {
            "text/plain": [
              "-4.479550639531771"
            ]
          },
          "metadata": {}
        }
      ]
    }
  ]
}